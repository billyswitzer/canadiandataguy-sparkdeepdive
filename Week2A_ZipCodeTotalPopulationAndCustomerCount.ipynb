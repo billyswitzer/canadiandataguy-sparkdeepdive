{
 "cells": [
  {
   "cell_type": "code",
   "execution_count": 0,
   "metadata": {
    "application/vnd.databricks.v1+cell": {
     "cellMetadata": {},
     "inputWidgets": {},
     "nuid": "654d7201-4556-44e3-a0e3-5ed85974e08e",
     "showTitle": false,
     "tableResultSettingsMap": {},
     "title": ""
    }
   },
   "outputs": [],
   "source": [
    "from pyspark.sql.functions import col, sum as spark_sum, count, lpad, broadcast\n",
    "\n",
    "zipcode_data_df = spark.read.table(\"hive_metastore.default.zipcode_data\")\n",
    "fake_customers_df = spark.read.table(\"hive_metastore.default.fake_customers\")\n",
    "\n",
    "#Pad zip code with leading zeros and sum total population - at grain of zip_code\n",
    "#Data in zipcode_data is only for year 2010\n",
    "zip_agg_df = (\n",
    "    zipcode_data_df\n",
    "    .withColumn(\"zip_code\", lpad(col(\"zipCode\").cast(\"string\"), 5, \"0\"))\n",
    "    .groupBy(\"zip_code\")\n",
    "    .agg(spark_sum(\"population\").alias(\"total_population\"))\n",
    ")\n",
    "\n",
    "#In real life we would probably want to show zip codes with no customers, but we would not be able to broadcast the zip_agg_df in that case\n",
    "joined_df = fake_customers_df.join(broadcast(zip_agg_df), on=\"zip_code\", how=\"inner\")\n",
    "\n",
    "result_df = (\n",
    "    joined_df\n",
    "    .groupBy(\"zip_code\", \"total_population\")\n",
    "    .agg(count(\"customer_id\").alias(\"total_customers\"))\n",
    ")\n",
    "\n",
    "result_df.write.format(\"delta\").mode(\"overwrite\").saveAsTable(\"hive_metastore.default.fake_broadcast_join\")\n",
    "\n"
   ]
  }
 ],
 "metadata": {
  "application/vnd.databricks.v1+notebook": {
   "computePreferences": null,
   "dashboards": [],
   "environmentMetadata": {
    "base_environment": "",
    "environment_version": "2"
   },
   "inputWidgetPreferences": null,
   "language": "python",
   "notebookMetadata": {
    "pythonIndentUnit": 4
   },
   "notebookName": "Week2_ZipCodeTotalPopulationAndCustomerCount",
   "widgets": {}
  },
  "language_info": {
   "name": "python"
  }
 },
 "nbformat": 4,
 "nbformat_minor": 0
}